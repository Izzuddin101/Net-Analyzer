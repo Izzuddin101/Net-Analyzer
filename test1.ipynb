{
 "cells": [
  {
   "cell_type": "code",
   "execution_count": 3,
   "metadata": {},
   "outputs": [
    {
     "name": "stdout",
     "output_type": "stream",
     "text": [
      "                    Feature  Importance\n",
      "34   Init_Win_bytes_forward    0.287672\n",
      "3          Destination.Port    0.200206\n",
      "1               Source.Port    0.086598\n",
      "25        Fwd.Header.Length    0.069479\n",
      "37     min_seg_size_forward    0.064795\n",
      "35  Init_Win_bytes_backward    0.049331\n",
      "10    Fwd.Packet.Length.Max    0.026440\n",
      "0                 Source.IP    0.022168\n",
      "29       Packet.Length.Mean    0.020856\n",
      "32     Avg.Fwd.Segment.Size    0.019711\n"
     ]
    }
   ],
   "source": [
    "import pandas as pd\n",
    "from sklearn.ensemble import RandomForestClassifier\n",
    "\n",
    "# Load network traffic data from CSV into DataFrame\n",
    "df = pd.read_csv(\"C:/Users/cs123/Downloads/archive/dataset.csv\")\n",
    "\n",
    "# Convert IP addresses to integers\n",
    "def ip_to_int(ip_series):\n",
    "    return ip_series.apply(lambda ip: sum(int(ip_part) * 256 ** i for i, ip_part in enumerate(reversed(ip.split('.')))))\n",
    "\n",
    "df['Source.IP'] = ip_to_int(df['Source.IP'])\n",
    "df['Destination.IP'] = ip_to_int(df['Destination.IP'])\n",
    "\n",
    "# Prepare features (X) and target variable (y) for Protocol prediction\n",
    "X = df[['Source.IP', 'Source.Port', 'Destination.IP', 'Destination.Port', \n",
    "        'Total.Fwd.Packets', 'Total.Backward.Packets', 'Total.Length.of.Fwd.Packets',\n",
    "        'Total.Length.of.Bwd.Packets', 'Flow.Bytes.s', 'Flow.Packets.s',\n",
    "        'Fwd.Packet.Length.Max', 'Fwd.Packet.Length.Mean', 'Bwd.Packet.Length.Max', \n",
    "        'Bwd.Packet.Length.Mean', 'Flow.IAT.Mean', 'Flow.IAT.Std', 'Flow.IAT.Max',\n",
    "        'Fwd.IAT.Total', 'Fwd.IAT.Mean', 'Fwd.IAT.Std', 'Fwd.IAT.Max', 'Bwd.IAT.Total', \n",
    "        'Bwd.IAT.Mean', 'Bwd.IAT.Std', 'Bwd.IAT.Max', 'Fwd.Header.Length', 'Bwd.Header.Length',\n",
    "        'Fwd.Packets.s', 'Bwd.Packets.s', 'Packet.Length.Mean', 'Packet.Length.Std', \n",
    "        'Average.Packet.Size', 'Avg.Fwd.Segment.Size', 'Avg.Bwd.Segment.Size', 'Init_Win_bytes_forward',\n",
    "        'Init_Win_bytes_backward', 'act_data_pkt_fwd', 'min_seg_size_forward', 'Active.Mean', \n",
    "        'Active.Std', 'Idle.Mean', 'Idle.Std']]\n",
    "\n",
    "y = df[\"Protocol\"]\n",
    "\n",
    "# Train a RandomForestClassifier model\n",
    "model = RandomForestClassifier()\n",
    "model.fit(X, y)\n",
    "\n",
    "# Get feature importances\n",
    "feature_importances = model.feature_importances_\n",
    "\n",
    "# Create a DataFrame to display feature importances\n",
    "feature_importance_df = pd.DataFrame({\"Feature\": X.columns, \"Importance\": feature_importances})\n",
    "feature_importance_df = feature_importance_df.sort_values(by=\"Importance\", ascending=False)\n",
    "\n",
    "# Display the most important features\n",
    "print(feature_importance_df.head(10))\n"
   ]
  }
 ],
 "metadata": {
  "kernelspec": {
   "display_name": "Python 3",
   "language": "python",
   "name": "python3"
  },
  "language_info": {
   "codemirror_mode": {
    "name": "ipython",
    "version": 3
   },
   "file_extension": ".py",
   "mimetype": "text/x-python",
   "name": "python",
   "nbconvert_exporter": "python",
   "pygments_lexer": "ipython3",
   "version": "3.9.0"
  }
 },
 "nbformat": 4,
 "nbformat_minor": 2
}
